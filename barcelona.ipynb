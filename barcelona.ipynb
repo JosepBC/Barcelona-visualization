{
 "cells": [
  {
   "cell_type": "code",
   "execution_count": 27,
   "metadata": {},
   "outputs": [],
   "source": [
    "import pandas as pd\n",
    "import matplotlib.pyplot as plt"
   ]
  },
  {
   "cell_type": "code",
   "execution_count": 28,
   "metadata": {},
   "outputs": [],
   "source": [
    "df = pd.read_csv(\"datasets/barcelona/accidents_2017.csv\")"
   ]
  },
  {
   "cell_type": "code",
   "execution_count": 29,
   "metadata": {},
   "outputs": [
    {
     "data": {
      "text/html": [
       "<div>\n",
       "<style scoped>\n",
       "    .dataframe tbody tr th:only-of-type {\n",
       "        vertical-align: middle;\n",
       "    }\n",
       "\n",
       "    .dataframe tbody tr th {\n",
       "        vertical-align: top;\n",
       "    }\n",
       "\n",
       "    .dataframe thead th {\n",
       "        text-align: right;\n",
       "    }\n",
       "</style>\n",
       "<table border=\"1\" class=\"dataframe\">\n",
       "  <thead>\n",
       "    <tr style=\"text-align: right;\">\n",
       "      <th></th>\n",
       "      <th>Id</th>\n",
       "      <th>District Name</th>\n",
       "      <th>Neighborhood Name</th>\n",
       "      <th>Street</th>\n",
       "      <th>Weekday</th>\n",
       "      <th>Month</th>\n",
       "      <th>Day</th>\n",
       "      <th>Hour</th>\n",
       "      <th>Part of the day</th>\n",
       "      <th>Mild injuries</th>\n",
       "      <th>Serious injuries</th>\n",
       "      <th>Victims</th>\n",
       "      <th>Vehicles involved</th>\n",
       "      <th>Longitude</th>\n",
       "      <th>Latitude</th>\n",
       "    </tr>\n",
       "  </thead>\n",
       "  <tbody>\n",
       "    <tr>\n",
       "      <th>0</th>\n",
       "      <td>2017S008429</td>\n",
       "      <td>Unknown</td>\n",
       "      <td>Unknown</td>\n",
       "      <td>Número 27                                     ...</td>\n",
       "      <td>Friday</td>\n",
       "      <td>October</td>\n",
       "      <td>13</td>\n",
       "      <td>8</td>\n",
       "      <td>Morning</td>\n",
       "      <td>2</td>\n",
       "      <td>0</td>\n",
       "      <td>2</td>\n",
       "      <td>2</td>\n",
       "      <td>2.125624</td>\n",
       "      <td>41.340045</td>\n",
       "    </tr>\n",
       "    <tr>\n",
       "      <th>1</th>\n",
       "      <td>2017S007316</td>\n",
       "      <td>Unknown</td>\n",
       "      <td>Unknown</td>\n",
       "      <td>Número 3 Zona Franca / Número 50 Zona Franca  ...</td>\n",
       "      <td>Friday</td>\n",
       "      <td>September</td>\n",
       "      <td>1</td>\n",
       "      <td>13</td>\n",
       "      <td>Morning</td>\n",
       "      <td>2</td>\n",
       "      <td>0</td>\n",
       "      <td>2</td>\n",
       "      <td>2</td>\n",
       "      <td>2.120452</td>\n",
       "      <td>41.339426</td>\n",
       "    </tr>\n",
       "    <tr>\n",
       "      <th>2</th>\n",
       "      <td>2017S010210</td>\n",
       "      <td>Unknown</td>\n",
       "      <td>Unknown</td>\n",
       "      <td>Litoral (Besòs)                               ...</td>\n",
       "      <td>Friday</td>\n",
       "      <td>December</td>\n",
       "      <td>8</td>\n",
       "      <td>21</td>\n",
       "      <td>Afternoon</td>\n",
       "      <td>5</td>\n",
       "      <td>0</td>\n",
       "      <td>5</td>\n",
       "      <td>2</td>\n",
       "      <td>2.167356</td>\n",
       "      <td>41.360886</td>\n",
       "    </tr>\n",
       "    <tr>\n",
       "      <th>3</th>\n",
       "      <td>2017S006364</td>\n",
       "      <td>Unknown</td>\n",
       "      <td>Unknown</td>\n",
       "      <td>Número 3 Zona Franca                          ...</td>\n",
       "      <td>Friday</td>\n",
       "      <td>July</td>\n",
       "      <td>21</td>\n",
       "      <td>2</td>\n",
       "      <td>Night</td>\n",
       "      <td>1</td>\n",
       "      <td>0</td>\n",
       "      <td>1</td>\n",
       "      <td>2</td>\n",
       "      <td>2.124529</td>\n",
       "      <td>41.337668</td>\n",
       "    </tr>\n",
       "    <tr>\n",
       "      <th>4</th>\n",
       "      <td>2017S004615</td>\n",
       "      <td>Sant Martí</td>\n",
       "      <td>el Camp de l'Arpa del Clot</td>\n",
       "      <td>Las Navas de Tolosa                           ...</td>\n",
       "      <td>Thursday</td>\n",
       "      <td>May</td>\n",
       "      <td>25</td>\n",
       "      <td>14</td>\n",
       "      <td>Afternoon</td>\n",
       "      <td>1</td>\n",
       "      <td>0</td>\n",
       "      <td>1</td>\n",
       "      <td>3</td>\n",
       "      <td>2.185272</td>\n",
       "      <td>41.416365</td>\n",
       "    </tr>\n",
       "  </tbody>\n",
       "</table>\n",
       "</div>"
      ],
      "text/plain": [
       "                Id District Name           Neighborhood Name  \\\n",
       "0  2017S008429           Unknown                     Unknown   \n",
       "1  2017S007316           Unknown                     Unknown   \n",
       "2  2017S010210           Unknown                     Unknown   \n",
       "3  2017S006364           Unknown                     Unknown   \n",
       "4  2017S004615        Sant Martí  el Camp de l'Arpa del Clot   \n",
       "\n",
       "                                              Street   Weekday      Month  \\\n",
       "0  Número 27                                     ...    Friday    October   \n",
       "1  Número 3 Zona Franca / Número 50 Zona Franca  ...    Friday  September   \n",
       "2  Litoral (Besòs)                               ...    Friday   December   \n",
       "3  Número 3 Zona Franca                          ...    Friday       July   \n",
       "4  Las Navas de Tolosa                           ...  Thursday        May   \n",
       "\n",
       "   Day  Hour Part of the day  Mild injuries  Serious injuries  Victims  \\\n",
       "0   13     8         Morning              2                 0        2   \n",
       "1    1    13         Morning              2                 0        2   \n",
       "2    8    21       Afternoon              5                 0        5   \n",
       "3   21     2           Night              1                 0        1   \n",
       "4   25    14       Afternoon              1                 0        1   \n",
       "\n",
       "   Vehicles involved  Longitude   Latitude  \n",
       "0                  2   2.125624  41.340045  \n",
       "1                  2   2.120452  41.339426  \n",
       "2                  2   2.167356  41.360886  \n",
       "3                  2   2.124529  41.337668  \n",
       "4                  3   2.185272  41.416365  "
      ]
     },
     "execution_count": 29,
     "metadata": {},
     "output_type": "execute_result"
    }
   ],
   "source": [
    "df.head()"
   ]
  },
  {
   "cell_type": "code",
   "execution_count": 43,
   "metadata": {},
   "outputs": [
    {
     "data": {
      "text/html": [
       "<div>\n",
       "<style scoped>\n",
       "    .dataframe tbody tr th:only-of-type {\n",
       "        vertical-align: middle;\n",
       "    }\n",
       "\n",
       "    .dataframe tbody tr th {\n",
       "        vertical-align: top;\n",
       "    }\n",
       "\n",
       "    .dataframe thead th {\n",
       "        text-align: right;\n",
       "    }\n",
       "</style>\n",
       "<table border=\"1\" class=\"dataframe\">\n",
       "  <thead>\n",
       "    <tr style=\"text-align: right;\">\n",
       "      <th></th>\n",
       "      <th>Accidents</th>\n",
       "    </tr>\n",
       "  </thead>\n",
       "  <tbody>\n",
       "    <tr>\n",
       "      <th>Friday</th>\n",
       "      <td>1761</td>\n",
       "    </tr>\n",
       "    <tr>\n",
       "      <th>Tuesday</th>\n",
       "      <td>1691</td>\n",
       "    </tr>\n",
       "    <tr>\n",
       "      <th>Thursday</th>\n",
       "      <td>1677</td>\n",
       "    </tr>\n",
       "    <tr>\n",
       "      <th>Wednesday</th>\n",
       "      <td>1650</td>\n",
       "    </tr>\n",
       "    <tr>\n",
       "      <th>Monday</th>\n",
       "      <td>1510</td>\n",
       "    </tr>\n",
       "    <tr>\n",
       "      <th>Saturday</th>\n",
       "      <td>1155</td>\n",
       "    </tr>\n",
       "    <tr>\n",
       "      <th>Sunday</th>\n",
       "      <td>895</td>\n",
       "    </tr>\n",
       "  </tbody>\n",
       "</table>\n",
       "</div>"
      ],
      "text/plain": [
       "           Accidents\n",
       "Friday          1761\n",
       "Tuesday         1691\n",
       "Thursday        1677\n",
       "Wednesday       1650\n",
       "Monday          1510\n",
       "Saturday        1155\n",
       "Sunday           895"
      ]
     },
     "execution_count": 43,
     "metadata": {},
     "output_type": "execute_result"
    }
   ],
   "source": [
    "weekdaysData = df.Weekday.value_counts()\n",
    "\n",
    "weekdaysDf = {\"Accidents\" : weekdaysData}\n",
    "weekdaysDf = pd.DataFrame(weekdaysDf)\n",
    "\n",
    "weekdaysDf"
   ]
  },
  {
   "cell_type": "code",
   "execution_count": 44,
   "metadata": {},
   "outputs": [
    {
     "data": {
      "text/html": [
       "<div>\n",
       "<style scoped>\n",
       "    .dataframe tbody tr th:only-of-type {\n",
       "        vertical-align: middle;\n",
       "    }\n",
       "\n",
       "    .dataframe tbody tr th {\n",
       "        vertical-align: top;\n",
       "    }\n",
       "\n",
       "    .dataframe thead th {\n",
       "        text-align: right;\n",
       "    }\n",
       "</style>\n",
       "<table border=\"1\" class=\"dataframe\">\n",
       "  <thead>\n",
       "    <tr style=\"text-align: right;\">\n",
       "      <th></th>\n",
       "      <th>Accidents</th>\n",
       "    </tr>\n",
       "  </thead>\n",
       "  <tbody>\n",
       "    <tr>\n",
       "      <th>Monday</th>\n",
       "      <td>1510</td>\n",
       "    </tr>\n",
       "    <tr>\n",
       "      <th>Tuesday</th>\n",
       "      <td>1691</td>\n",
       "    </tr>\n",
       "    <tr>\n",
       "      <th>Wednesday</th>\n",
       "      <td>1650</td>\n",
       "    </tr>\n",
       "    <tr>\n",
       "      <th>Thursday</th>\n",
       "      <td>1677</td>\n",
       "    </tr>\n",
       "    <tr>\n",
       "      <th>Friday</th>\n",
       "      <td>1761</td>\n",
       "    </tr>\n",
       "    <tr>\n",
       "      <th>Saturday</th>\n",
       "      <td>1155</td>\n",
       "    </tr>\n",
       "    <tr>\n",
       "      <th>Sunday</th>\n",
       "      <td>895</td>\n",
       "    </tr>\n",
       "  </tbody>\n",
       "</table>\n",
       "</div>"
      ],
      "text/plain": [
       "           Accidents\n",
       "Monday          1510\n",
       "Tuesday         1691\n",
       "Wednesday       1650\n",
       "Thursday        1677\n",
       "Friday          1761\n",
       "Saturday        1155\n",
       "Sunday           895"
      ]
     },
     "execution_count": 44,
     "metadata": {},
     "output_type": "execute_result"
    }
   ],
   "source": [
    "sorter = ['Monday', 'Tuesday', 'Wednesday', 'Thursday', 'Friday', 'Saturday', 'Sunday']\n",
    "sorterIndex = dict(zip(sorter, range(len(sorter))))\n",
    "\n",
    "weekdaysDf['Day_id'] = weekdaysDf.index\n",
    "weekdaysDf['Day_id'] = weekdaysDf['Day_id'].map(sorterIndex)\n",
    "weekdaysDf.sort_values('Day_id', inplace=True)\n",
    "\n",
    "weekdaysDf = weekdaysDf.drop(\"Day_id\", axis=1)\n",
    "\n",
    "weekdaysDf"
   ]
  },
  {
   "cell_type": "code",
   "execution_count": 45,
   "metadata": {},
   "outputs": [
    {
     "data": {
      "image/png": "[encoded data removed]",
      "text/plain": [
       "<Figure size 720x360 with 1 Axes>"
      ]
     },
     "metadata": {
      "needs_background": "light"
     },
     "output_type": "display_data"
    }
   ],
   "source": [
    "weekdaysDf.plot(kind='bar', figsize=(10, 5))\n",
    "plt.show()\n",
    "# plt.savefig(\"plots/weekdays\")"
   ]
  },
  {
   "cell_type": "code",
   "execution_count": 33,
   "metadata": {},
   "outputs": [
    {
     "data": {
      "text/plain": [
       "2     7031\n",
       "1     2260\n",
       "3      798\n",
       "4      165\n",
       "5       48\n",
       "6       14\n",
       "7        6\n",
       "9        5\n",
       "0        5\n",
       "8        2\n",
       "10       2\n",
       "13       1\n",
       "11       1\n",
       "14       1\n",
       "Name: Vehicles involved, dtype: int64"
      ]
     },
     "execution_count": 33,
     "metadata": {},
     "output_type": "execute_result"
    }
   ],
   "source": [
    "vehicles = df[\"Vehicles involved\"].value_counts()\n",
    "vehicles"
   ]
  },
  {
   "cell_type": "code",
   "execution_count": 34,
   "metadata": {},
   "outputs": [
    {
     "data": {
      "image/png": "[encoded data removed]",
      "text/plain": [
       "<Figure size 720x720 with 1 Axes>"
      ]
     },
     "metadata": {},
     "output_type": "display_data"
    }
   ],
   "source": [
    "vehicles.plot(kind='pie', figsize=(10, 10))\n",
    "# plt.savefig(\"plots/vehicles_involved\")\n",
    "plt.show()"
   ]
  },
  {
   "cell_type": "code",
   "execution_count": 35,
   "metadata": {},
   "outputs": [
    {
     "data": {
      "text/plain": [
       "Eixample               3029\n",
       "Sant Martí             1336\n",
       "Sants-Montjuïc         1104\n",
       "Sarrià-Sant Gervasi    1104\n",
       "Horta-Guinardó          743\n",
       "Les Corts               726\n",
       "Ciutat Vella            600\n",
       "Sant Andreu             597\n",
       "Nou Barris              542\n",
       "Gràcia                  531\n",
       "Name: District Name, dtype: int64"
      ]
     },
     "execution_count": 35,
     "metadata": {},
     "output_type": "execute_result"
    }
   ],
   "source": [
    "district = df[\"District Name\"].value_counts()\n",
    "district = district.drop(\"Unknown\", axis=0)\n",
    "district"
   ]
  },
  {
   "cell_type": "code",
   "execution_count": 36,
   "metadata": {},
   "outputs": [
    {
     "data": {
      "image/png": "[encoded data removed]",
      "text/plain": [
       "<Figure size 720x360 with 1 Axes>"
      ]
     },
     "metadata": {
      "needs_background": "light"
     },
     "output_type": "display_data"
    }
   ],
   "source": [
    "district.plot(kind='line', figsize=(10, 5))\n",
    "# plt.savefig(\"plots/district_name\")\n",
    "plt.show()"
   ]
  },
  {
   "cell_type": "code",
   "execution_count": 37,
   "metadata": {},
   "outputs": [
    {
     "data": {
      "image/png": "[encoded data removed]",
      "text/plain": [
       "<Figure size 432x288 with 1 Axes>"
      ]
     },
     "metadata": {
      "needs_background": "light"
     },
     "output_type": "display_data"
    }
   ],
   "source": [
    "df[\"Part of the day\"].value_counts().plot(kind=\"bar\")\n",
    "# plt.savefig(\"plots/part_day\")\n",
    "plt.show()"
   ]
  }
 ],
 "metadata": {
  "interpreter": {
   "hash": "13eb0af71620a846e484681143862ad0a4deab6cadfc353264e5c14897c11035"
  },
  "kernelspec": {
   "display_name": "Python 3.9.9 64-bit",
   "language": "python",
   "name": "python3"
  },
  "language_info": {
   "codemirror_mode": {
    "name": "ipython",
    "version": 3
   },
   "file_extension": ".py",
   "mimetype": "text/x-python",
   "name": "python",
   "nbconvert_exporter": "python",
   "pygments_lexer": "ipython3",
   "version": "3.8.10"
  },
  "orig_nbformat": 4
 },
 "nbformat": 4,
 "nbformat_minor": 2
}
